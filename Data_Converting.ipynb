{
 "cells": [
  {
   "cell_type": "markdown",
   "metadata": {},
   "source": [
    "# Imports"
   ]
  },
  {
   "cell_type": "code",
   "execution_count": null,
   "metadata": {},
   "outputs": [],
   "source": [
    "import Data_analysis as da\n"
   ]
  },
  {
   "cell_type": "markdown",
   "metadata": {},
   "source": [
    "## Data converting\n",
    "\n",
    "Converting the data from Doric files and LabChart into Ethier lab standard .CSV \n",
    "\n",
    "**General Use:**\n",
    "\n",
    "* Put the path of your Chosing in the section Below\n",
    "* Go execute the Cells in the section according to your File type (.doric, .txt, etc.)\n",
    "\n",
    "**Notebook application:**\n",
    "\n",
    "* Create a .CSV with Frame that is used in the EthierLab. The file will be provided in the \"Path_Saving\""
   ]
  },
  {
   "cell_type": "markdown",
   "metadata": {},
   "source": [
    "**Information for saving file as CSV:**"
   ]
  },
  {
   "cell_type": "code",
   "execution_count": null,
   "metadata": {},
   "outputs": [],
   "source": [
    "PATH = \"C:/Users/Vincent/Downloads/Desktop/maitrise/235_stim_term_opto_periph_fatigue_trains_experience_3.txt\"\n",
    "# PATH =  \"C:/Users/Vincent/Documents/GitHub/EthierLab/mai_26_2023_Fred_Dagenais_Stim_Opto_train_pulse_Force.txt\"\n",
    "PATH_saving = \"C:/Users/Vincent/Downloads/Desktop/maitrise/\""
   ]
  },
  {
   "cell_type": "markdown",
   "metadata": {},
   "source": [
    "**Information about experiment**"
   ]
  },
  {
   "cell_type": "code",
   "execution_count": null,
   "metadata": {},
   "outputs": [],
   "source": [
    "rat_number = \"235\" # Enter rat number \n",
    "sampling_type = \"Electric stim\" # Enter what exepriement (lever/pallet/continuous/etc.)\n",
    "stimulation_intensity = \"100\" # (uA)Enter stimulation intensity  \n",
    "date = \"2023-07-21\" #Enter date of the recording\n",
    "injection_type = \"AAV2/6\" # Enter name of virus used\n",
    "injection_location = \"Fléchisseur et extenseurs\" # Enter location of injection\n",
    "comment = \"\" # Enter Comment on the top of the CSV file"
   ]
  },
  {
   "cell_type": "markdown",
   "metadata": {},
   "source": [
    "# Doric Files"
   ]
  },
  {
   "cell_type": "markdown",
   "metadata": {},
   "source": [
    "Make sure that the correct data are given in the function:\n",
    "\n",
    "* PATH: PATH to the willing Doric File\n",
    "* Channel_Event: Choose which entry the Digital Input is connected\n",
    "* AnalogIn: Put True if you want the AnalogIn files in the .CSV\n",
    "* AnalogOut: Put True if you want the AnalogOut files in the .CSV"
   ]
  },
  {
   "cell_type": "code",
   "execution_count": null,
   "metadata": {},
   "outputs": [],
   "source": [
    "channel_events = 4\n",
    "# AnalogIn = False\n",
    "# AnalogOut = False"
   ]
  },
  {
   "cell_type": "code",
   "execution_count": null,
   "metadata": {},
   "outputs": [],
   "source": [
    "da.list_of_lists_to_csv(da.search_file(PATH, channel_events), \"temp.csv\")\n",
    "count = None"
   ]
  },
  {
   "cell_type": "markdown",
   "metadata": {},
   "source": []
  },
  {
   "cell_type": "markdown",
   "metadata": {},
   "source": [
    "# LabChart"
   ]
  },
  {
   "cell_type": "markdown",
   "metadata": {},
   "source": [
    "Make sure the exportation from the lab chart software is in .txt format."
   ]
  },
  {
   "cell_type": "code",
   "execution_count": null,
   "metadata": {},
   "outputs": [],
   "source": [
    "count, comment = da.split_txt_to_csv(PATH)"
   ]
  },
  {
   "cell_type": "markdown",
   "metadata": {},
   "source": [
    "# Creation of .CSV"
   ]
  },
  {
   "cell_type": "code",
   "execution_count": null,
   "metadata": {},
   "outputs": [],
   "source": [
    "lines = [f\"Date of experiment : {date}\",f\"Exepriment type : {sampling_type}\", f\"Rat number : {rat_number}\", f\"Injection type : {injection_type}\", f\"Injection Location: {injection_location}\",\n",
    "         f'Stimulation intensity: {stimulation_intensity}uA', f\"Comment: {comment}\"]\n",
    "filename = PATH[PATH.rfind(\"/\")+1:-4]\n",
    "if count is not None:\n",
    "    if count == 1:\n",
    "        da.add_lines_to_txt(f\"Experiment_{1}.csv\", lines, PATH_saving + filename+f\".csv\")\n",
    "    else:\n",
    "        for i in range(0,count, 1):\n",
    "            da.add_lines_to_txt(f\"Experiment_{i+1}.csv\", lines, PATH_saving + filename+f\"_{i+1}.csv\")\n",
    "        \n",
    "else:\n",
    "    da.add_lines_to_txt(\"temp.csv\", lines, PATH_saving + filename+\".csv\")"
   ]
  }
 ],
 "metadata": {
  "kernelspec": {
   "display_name": "Python 3",
   "language": "python",
   "name": "python3"
  },
  "language_info": {
   "codemirror_mode": {
    "name": "ipython",
    "version": 3
   },
   "file_extension": ".py",
   "mimetype": "text/x-python",
   "name": "python",
   "nbconvert_exporter": "python",
   "pygments_lexer": "ipython3",
   "version": "3.11.2"
  }
 },
 "nbformat": 4,
 "nbformat_minor": 2
}
