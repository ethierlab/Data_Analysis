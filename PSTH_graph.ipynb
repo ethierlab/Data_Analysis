{
 "cells": [
  {
   "cell_type": "markdown",
   "metadata": {},
   "source": [
    "# Import"
   ]
  },
  {
   "cell_type": "code",
   "execution_count": 13,
   "metadata": {},
   "outputs": [],
   "source": [
    "import Data_analysis as da\n",
    "import numpy as np\n",
    "import matplotlib.pyplot as plt"
   ]
  },
  {
   "cell_type": "markdown",
   "metadata": {},
   "source": [
    "# PSTH Graphics Viewer"
   ]
  },
  {
   "cell_type": "markdown",
   "metadata": {},
   "source": [
    "Select the approriate .csv file that has the uniform Ethier lab format"
   ]
  },
  {
   "cell_type": "code",
   "execution_count": 14,
   "metadata": {},
   "outputs": [],
   "source": [
    "# PATH = \"C:/Users/Vincent/Documents/GitHub/EthierLab/test.csv\"\n",
    "# PATH = \"C:/Users/Vincent/Documents/GitHub/EthierLab/test.csv\"\n",
    "PATH = \"C:/Users/Computer_F6454-2/Documents/GitHub/EthierLab/processed_signal_210_pallet_100uA.csv\"\n",
    "PATH_saving = \"C:/Users/Computer_F6454-2/Desktop/\""
   ]
  },
  {
   "cell_type": "markdown",
   "metadata": {},
   "source": [
    "# Modifiable Values"
   ]
  },
  {
   "cell_type": "code",
   "execution_count": 15,
   "metadata": {},
   "outputs": [],
   "source": [
    "events = \"S (Hz)\" # Enter the channel name for the Events\n",
    "Signal_psth = \"Force (V)\"  # Enter the channel name for the PSTH\n",
    "experiment = 3 # Put 1 for single spike signal, 2 for knob exepriement, 3 for continuous stimulation, 4 for lever experiement\n",
    "t_inf = 0.02 # (seconds) Enter time value before stimulation\n",
    "t_supp = 0.6 # (seconds) Enter time value after stimulation\n",
    "select = 0 # Select for succes & failure (0), success (1), failure (2), stimulation (4)\n",
    "time_window = 0.3 # (seconds) Enter the sampling time between two spikes of \"starting squence\"\n",
    "select = 0 # If trial with success and failure are displayed,0 is for every signal, 1 is for success, 2 for failure, 3 is for activation stimulation"
   ]
  },
  {
   "cell_type": "markdown",
   "metadata": {},
   "source": [
    "# Convert CSV to Numpy array"
   ]
  },
  {
   "cell_type": "code",
   "execution_count": null,
   "metadata": {},
   "outputs": [],
   "source": [
    "dictio = da.csv_to_np_arrays(PATH)\n",
    "\n",
    "print(dictio)\n",
    "\n",
    "keys_list = []\n",
    "# Add keys from the dictionary to the list\n",
    "for key in dictio.keys():\n",
    "    keys_list.append(key)\n",
    "try:\n",
    "    time =  dictio[keys_list[0]]\n",
    "    events = dictio[events]\n",
    "    y_sig = dictio[Signal_psth]\n",
    "except KeyError:\n",
    "    print(\"The channel name you entered you entered does not exist\")"
   ]
  },
  {
   "cell_type": "markdown",
   "metadata": {},
   "source": [
    "# Signals Graph"
   ]
  },
  {
   "cell_type": "code",
   "execution_count": null,
   "metadata": {},
   "outputs": [],
   "source": [
    "plt.figure(figsize=(30, 6))\n",
    "plt.plot(time, events)\n",
    "plt.show()"
   ]
  },
  {
   "cell_type": "markdown",
   "metadata": {},
   "source": [
    "Visualise if the signals is to your liking"
   ]
  },
  {
   "cell_type": "code",
   "execution_count": null,
   "metadata": {},
   "outputs": [],
   "source": [
    "freq = da.find_frequency(time)\n",
    "index = da.find_event_index(events,freq, experiment, time_window,select)\n",
    "print(index)\n",
    "plt.plot(time,events)\n",
    "plt.scatter(time[index],events[index], color=\"g\")\n",
    "plt.show()"
   ]
  },
  {
   "cell_type": "markdown",
   "metadata": {},
   "source": [
    "Check each single cut independantly"
   ]
  },
  {
   "cell_type": "code",
   "execution_count": null,
   "metadata": {},
   "outputs": [],
   "source": [
    "sample = da.cut_individual_event(t_inf, t_supp, index, y_sig, freq)\n",
    "da.navigate_and_save_subplots(time, index,PATH_saving, \"plots\", t_inf, t_supp, freq, sample)"
   ]
  },
  {
   "cell_type": "markdown",
   "metadata": {},
   "source": [
    "# PSTH"
   ]
  },
  {
   "cell_type": "code",
   "execution_count": null,
   "metadata": {},
   "outputs": [],
   "source": [
    "da.plot_psth(t_inf,t_supp,*da.PSTH(sample), len(sample))"
   ]
  },
  {
   "cell_type": "markdown",
   "metadata": {},
   "source": [
    "# Create a CSV file with PSTH data"
   ]
  },
  {
   "cell_type": "code",
   "execution_count": null,
   "metadata": {},
   "outputs": [],
   "source": [
    "data = da.generate_PSTH_data(sample, t_inf, t_supp)\n",
    "filename = PATH[PATH.rfind(\"/\")+1:-4] + \"_PSTH.csv\"\n",
    "da.create_PSTH_CSV(PATH, PATH_saving+ filename, data)"
   ]
  }
 ],
 "metadata": {
  "kernelspec": {
   "display_name": "Python 3",
   "language": "python",
   "name": "python3"
  },
  "language_info": {
   "codemirror_mode": {
    "name": "ipython",
    "version": 3
   },
   "file_extension": ".py",
   "mimetype": "text/x-python",
   "name": "python",
   "nbconvert_exporter": "python",
   "pygments_lexer": "ipython3",
   "version": "3.11.2"
  }
 },
 "nbformat": 4,
 "nbformat_minor": 2
}
