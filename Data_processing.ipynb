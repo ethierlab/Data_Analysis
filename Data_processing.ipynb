{
 "cells": [
  {
   "attachments": {},
   "cell_type": "markdown",
   "metadata": {},
   "source": [
    "# Import the Python package"
   ]
  },
  {
   "cell_type": "code",
   "execution_count": null,
   "metadata": {},
   "outputs": [],
   "source": [
    "import numpy as np\n",
    "import Data_analysis as da\n",
    "import matplotlib.pyplot as plt\n",
    "import pandas as pd\n",
    "import os\n",
    "from scipy.stats import linregress"
   ]
  },
  {
   "attachments": {},
   "cell_type": "markdown",
   "metadata": {},
   "source": [
    "# Enter the path of the data you want to process"
   ]
  },
  {
   "cell_type": "code",
   "execution_count": null,
   "metadata": {},
   "outputs": [],
   "source": [
    "PATH = \"C:/Users/Computer_F6454-2/Documents/GitHub/EthierLab/stimulation.csv\"\n",
    "PATH_saving = \"\""
   ]
  },
  {
   "attachments": {},
   "cell_type": "markdown",
   "metadata": {},
   "source": [
    "#### Information of the rat"
   ]
  },
  {
   "cell_type": "code",
   "execution_count": null,
   "metadata": {},
   "outputs": [],
   "source": [
    "events_header = \"events\" # Enter the channel for the events\n",
    "isobestic_header = \"Isobestic\" # Enter the channel for the isobestic channel\n",
    "grabDA_header = \"GrabDA\" # Enter the channel for the grabDA channel"
   ]
  },
  {
   "attachments": {},
   "cell_type": "markdown",
   "metadata": {},
   "source": [
    "# Convert CSV to Numpy array\n",
    "* Always enter the variable name in the order: time, events, isobestic and grabDA.\n",
    "* If you want to have access to AnalogIn and/or AnalogOut, just enter AnalogIn=True and/or AnalogOut=True as an argument of the search_file function\n",
    "* If an error say that a channel does not exist, change the parameter channel_events to another channel written in the printed message. (i.e. DIO04 -> channel_events=4)"
   ]
  },
  {
   "cell_type": "code",
   "execution_count": null,
   "metadata": {},
   "outputs": [],
   "source": [
    "dictio = da.csv_to_np_arrays(PATH)\n",
    "\n",
    "print(dictio)\n",
    "\n",
    "keys_list = []\n",
    "# Add keys from the dictionary to the list\n",
    "for key in dictio.keys():\n",
    "    keys_list.append(key)\n",
    "try:\n",
    "    time =  dictio[keys_list[0]]\n",
    "    events = dictio[events_header]\n",
    "    isobestic = dictio[isobestic_header]\n",
    "    grabDA = dictio[grabDA_header]\n",
    "except KeyError:\n",
    "    print(\"The channel name you entered you entered does not exist\")"
   ]
  },
  {
   "attachments": {},
   "cell_type": "markdown",
   "metadata": {},
   "source": [
    "# Cut the arrays so they all have the same length and find other important informations"
   ]
  },
  {
   "cell_type": "code",
   "execution_count": null,
   "metadata": {},
   "outputs": [],
   "source": [
    "# Make array with the same length\n",
    "events, isobestic, time, grabDA = da.check_time_value(events, isobestic, time, grabDA)\n",
    "\n",
    "# Indentify the signals\n",
    "stim, stim_name = grabDA, 'grabDA'\n",
    "other, other_name = isobestic, \"isobestic\"\n",
    "\n",
    "# Find the frequency\n",
    "freq = da.find_frequency(time)"
   ]
  },
  {
   "attachments": {},
   "cell_type": "markdown",
   "metadata": {},
   "source": [
    "# Signal processing"
   ]
  },
  {
   "attachments": {},
   "cell_type": "markdown",
   "metadata": {},
   "source": [
    "#### Apply a Low-Pass filter"
   ]
  },
  {
   "cell_type": "code",
   "execution_count": null,
   "metadata": {},
   "outputs": [],
   "source": [
    "### Enter True in is_artifact if you want to remove artifacts ###\n",
    "is_artifact = False\n",
    "\n",
    "# Plot the raw signals\n",
    "plt.figure(figsize=(30, 6))\n",
    "plt.plot(time, stim, label=stim_name, color='red')\n",
    "plt.plot(time, other, label=other_name, color='purple')\n",
    "plt.plot(time, events / 20, color='black', label=\"Events\")\n",
    "plt.title(\"Raw signals\")\n",
    "plt.xlabel(\"Time [s]\")\n",
    "plt.ylabel(\"Signal intensity\")\n",
    "plt.legend(loc=\"upper right\")\n",
    "\n",
    "plt.show()\n",
    "\n",
    "\n",
    "# Denoise the two signals\n",
    "denoised_stim = da.denoising(stim, 10, 5, freq)\n",
    "denoised_other = da.denoising(other, 10, 5, freq)\n",
    "\n",
    "# Remove the artifact from the two signals\n",
    "if is_artifact:\n",
    "    da.artifact_removal(denoised_stim, time)\n",
    "    da.artifact_removal(denoised_other, time)\n",
    "\n",
    "# Plot the signal without artifact and denoised\n",
    "plt.figure(figsize=(30, 6))\n",
    "plt.plot(time, denoised_stim, label=f\"Denoised {stim_name}\", color='red')\n",
    "plt.plot(time, denoised_other, label=f\"Denoised {other_name}\", color='purple')\n",
    "plt.plot(time, events / 20, color='black', label='Events')\n",
    "\n",
    "title = \"Denoised signal\"\n",
    "if is_artifact:\n",
    "    title = title + \" without artifact\"\n",
    "\n",
    "plt.title(title)\n",
    "plt.xlabel(\"Time [s]\")\n",
    "plt.ylabel(\"Signal intensity\")\n",
    "plt.legend(loc=\"upper right\")\n",
    "\n",
    "plt.show()"
   ]
  },
  {
   "attachments": {},
   "cell_type": "markdown",
   "metadata": {},
   "source": [
    "#### Detrend the signal"
   ]
  },
  {
   "cell_type": "code",
   "execution_count": null,
   "metadata": {},
   "outputs": [],
   "source": [
    "from scipy.sparse import csc_matrix, eye, diags\n",
    "from scipy.sparse.linalg import spsolve\n",
    "\n",
    "lambd = 7e7 # Adjust lambda to get the best fit\n",
    "porder = 1\n",
    "itermax = 50\n",
    "\n",
    "fit_stim=da.airPLS(denoised_stim,lambda_=lambd,porder=porder,itermax=itermax)\n",
    "fit_other=da.airPLS(denoised_other,lambda_=lambd,porder=porder,itermax=itermax)\n",
    "\n",
    "detrend_stim = denoised_stim - fit_stim\n",
    "detrend_other = denoised_other - fit_other\n",
    "\n",
    "# Plot the detrended signals\n",
    "plt.figure(figsize=(30, 6))\n",
    "\n",
    "plt.plot(time, denoised_stim, color='red', label=\"GrabDA\")\n",
    "plt.plot(time, fit_stim, label=\"grabDA fit\")\n",
    "\n",
    "plt.plot(time, denoised_other, color='purple', label=\"Isobestic\")\n",
    "plt.plot(time, fit_other, label=\"Isobestic fit\")\n",
    "\n",
    "plt.plot(time, events / 200, color='black', label=\"Events\")\n",
    "\n",
    "plt.xlabel(\"Time [s]\")\n",
    "plt.ylabel(\"Signal intensity\")\n",
    "plt.title(\"Signals with their trend from the airPLS algorithm\")\n",
    "plt.legend(loc=\"upper right\")\n",
    "\n",
    "plt.show()\n",
    "\n",
    "plt.figure(figsize=(30, 6))\n",
    "\n",
    "plt.plot(time, detrend_other, label=f\"Detrended {other_name}\", color='purple')\n",
    "\n",
    "plt.plot(time, detrend_stim, label=f\"Detrended {stim_name}\", color='red')\n",
    "\n",
    "plt.plot(time, events / 200, color='black', label=\"Events\")\n",
    "\n",
    "plt.title(\"Detrended signals\")\n",
    "plt.xlabel(\"Time [s]\")\n",
    "plt.ylabel(\"Signal intensity\")\n",
    "plt.legend(loc=\"upper right\")\n",
    "\n",
    "plt.show()"
   ]
  },
  {
   "attachments": {},
   "cell_type": "markdown",
   "metadata": {},
   "source": [
    "#### We normalize the signal with the z-score method"
   ]
  },
  {
   "cell_type": "code",
   "execution_count": null,
   "metadata": {},
   "outputs": [],
   "source": [
    "# Normalize the signals with the z score method\n",
    "z_score_stim = da.normalize(detrend_stim)\n",
    "z_score_other = da.normalize(detrend_other)\n",
    "\n",
    "\n",
    "# Plot the normalized signals\n",
    "plt.figure(figsize=(30, 6))\n",
    "plt.plot(time, z_score_stim, label=f\"Normalized {stim_name}\", color='red')\n",
    "plt.plot(time, z_score_other, label=f\"Normalized {other_name}\", color='purple')\n",
    "plt.plot(time, events, color='black', label=\"Events\")\n",
    "plt.title(\"Normalized by z scoring signals\")\n",
    "plt.xlabel(\"Time [s]\")\n",
    "plt.ylabel(\"Signal intensity\")\n",
    "plt.legend(loc=\"upper right\")"
   ]
  },
  {
   "attachments": {},
   "cell_type": "markdown",
   "metadata": {},
   "source": [
    "#### Motion correction"
   ]
  },
  {
   "cell_type": "code",
   "execution_count": null,
   "metadata": {},
   "outputs": [],
   "source": [
    "# Reprensentation of the grabDA and isobestic correclation by scattering the two signals\n",
    "plt.scatter(z_score_stim[::5], z_score_other[::5], alpha=0.01, color='black')\n",
    "\n",
    "# Make a \"mask\" to ignore the NaN values\n",
    "mask = ~np.isnan(z_score_stim) & ~np.isnan(z_score_other)\n",
    "\n",
    "# Make a linear regression with the scipy.stats module\n",
    "slope, intercept, r_value, p_value, std_err = linregress(x=z_score_stim[mask], y=z_score_other[mask])\n",
    "\n",
    "\n",
    "# Plot the line\n",
    "x = np.array(plt.xlim())\n",
    "plt.plot(x, intercept + x*slope, color='red')\n",
    "plt.title(f'{stim_name} - {other_name} correlation')\n",
    "plt.xlabel(stim_name)\n",
    "plt.ylabel(other_name)\n",
    "\n",
    "plt.show()\n",
    "\n",
    "\n",
    "# Do the motion correction\n",
    "stim_corrected = da.motion_correction(z_score_stim, z_score_other, z_score_stim)\n",
    "other_corrected = da.motion_correction(z_score_stim, z_score_other, z_score_other)\n",
    "\n",
    "\n",
    "# Plot the signal with motion correction\n",
    "plt.figure(figsize=(30, 6))\n",
    "plt.plot(time, stim_corrected, label=f\"Motion corrected {stim_name}\", color='red')\n",
    "plt.plot(time, other_corrected, label=f\"Motion corrected {other_name}\", color='purple')\n",
    "plt.plot(time, events, color='black', label=\"Events\")\n",
    "plt.title(\"Motion corrected signals\")\n",
    "plt.xlabel(\"Time [s]\")\n",
    "plt.ylabel(\"Signal intensity\")\n",
    "plt.legend(loc=\"upper right\")\n",
    "\n",
    "plt.show()"
   ]
  },
  {
   "attachments": {},
   "cell_type": "markdown",
   "metadata": {},
   "source": [
    "#### dF/F"
   ]
  },
  {
   "cell_type": "code",
   "execution_count": null,
   "metadata": {},
   "outputs": [],
   "source": [
    "# Make the dF/F on the signal so we can do the PSTH with it\n",
    "df_f_signal = stim_corrected - other_corrected\n",
    "\n",
    "\n",
    "# Plot the resulting signal with the events\n",
    "plt.figure(figsize=(30, 6))\n",
    "plt.plot(time, df_f_signal, label=f\"dF/F {stim_name}\", color='black')\n",
    "plt.plot(time, events, color='red', label=\"events\")\n",
    "plt.title(\"dF/F signals\")\n",
    "plt.xlabel(\"Time [s]\")\n",
    "plt.ylabel(\"Signal intensity\")\n",
    "plt.legend(loc=\"upper right\")\n",
    "\n",
    "plt.show()"
   ]
  },
  {
   "attachments": {},
   "cell_type": "markdown",
   "metadata": {},
   "source": [
    "#### Then we save the new signal"
   ]
  },
  {
   "cell_type": "code",
   "execution_count": null,
   "metadata": {},
   "outputs": [],
   "source": [
    "file_data = {\n",
    "    'column1': time, # Create an array of time the same as the graphic above\n",
    "    'column2': events, \n",
    "    'column3': df_f_signal\n",
    "}\n",
    "\n",
    "\n",
    "filename = PATH[PATH.rfind(\"/\")+1:-4] + \"_processed_signal.csv\"\n",
    "da.create_Processed_sig_CSV(PATH, PATH_saving+ filename, file_data)\n"
   ]
  }
 ],
 "metadata": {
  "kernelspec": {
   "display_name": "Python 3",
   "language": "python",
   "name": "python3"
  },
  "language_info": {
   "codemirror_mode": {
    "name": "ipython",
    "version": 3
   },
   "file_extension": ".py",
   "mimetype": "text/x-python",
   "name": "python",
   "nbconvert_exporter": "python",
   "pygments_lexer": "ipython3",
   "version": "3.11.3"
  },
  "orig_nbformat": 4
 },
 "nbformat": 4,
 "nbformat_minor": 2
}
